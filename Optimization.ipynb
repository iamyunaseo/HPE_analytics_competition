{
 "cells": [
  {
   "cell_type": "code",
   "execution_count": null,
   "metadata": {},
   "outputs": [],
   "source": [
    "import os\n",
    "import sys\n",
    "\n",
    "import numpy as np\n",
    "import pandas as pd \n",
    "\n",
    "import pickle"
   ]
  },
  {
   "cell_type": "code",
   "execution_count": null,
   "metadata": {},
   "outputs": [],
   "source": [
    "df=pd.read_csv('Data/data_preprocessed.csv')"
   ]
  },
  {
   "cell_type": "code",
   "execution_count": null,
   "metadata": {},
   "outputs": [],
   "source": [
    "strategy_col=['AdDigitalChannel','AudienceType','Spend']\n",
    "df_bid=df[strategy_col]"
   ]
  },
  {
   "cell_type": "code",
   "execution_count": null,
   "metadata": {},
   "outputs": [],
   "source": [
    "df_bid"
   ]
  },
  {
   "cell_type": "code",
   "execution_count": null,
   "metadata": {},
   "outputs": [],
   "source": [
    "df_bid['R1']=1*df['WebVisit']+2*df['CollateralView']+3*df['ProductView']+4*df['FormComplete']"
   ]
  },
  {
   "cell_type": "code",
   "execution_count": null,
   "metadata": {},
   "outputs": [],
   "source": [
    "df_bid['R2']=-0.00000065492*(df['VideoCompletes']+df['SocialLikes']+df['SocialShares'])+0.33536101450"
   ]
  },
  {
   "cell_type": "code",
   "execution_count": null,
   "metadata": {},
   "outputs": [],
   "source": [
    "df_bid['R']=df_bid['R1']+df_bid['R2']"
   ]
  },
  {
   "cell_type": "code",
   "execution_count": null,
   "metadata": {},
   "outputs": [],
   "source": [
    "ch_li=list(set(df_bid['AdDigitalChannel'].to_list()))\n",
    "ch_n=[1,2,3]\n",
    "ch_dict={}\n",
    "for i in range(len(ch_n)):\n",
    "    ch_dict[ch_li[i]]=ch_n[i]\n",
    "\n",
    "aud_li=list(set(df_bid['AudienceType'].to_list()))\n",
    "aud_n=[1,2,3,4,5]\n",
    "aud_dict={}\n",
    "for i in range(len(aud_n)):\n",
    "    aud_dict[aud_li[i]]=aud_n[i]"
   ]
  },
  {
   "cell_type": "code",
   "execution_count": null,
   "metadata": {},
   "outputs": [],
   "source": [
    "df_bid['AdDigitalChannel']=df_bid['AdDigitalChannel'].apply(lambda a:ch_dict[a])\n",
    "df_bid['AudienceType']=df_bid['AudienceType'].apply(lambda a:aud_dict[a])"
   ]
  },
  {
   "cell_type": "code",
   "execution_count": null,
   "metadata": {},
   "outputs": [],
   "source": [
    "with open('Data/Y_exp_cat.pkl','rb')as f: #  Y_exp_xg.pkl\n",
    "    ctr=pickle.load(f)"
   ]
  },
  {
   "cell_type": "code",
   "execution_count": null,
   "metadata": {},
   "outputs": [],
   "source": [
    "ctr=pd.DataFrame(ctr)"
   ]
  },
  {
   "cell_type": "code",
   "execution_count": null,
   "metadata": {},
   "outputs": [],
   "source": [
    "df_bid['CTR']=ctr[1]"
   ]
  },
  {
   "cell_type": "code",
   "execution_count": null,
   "metadata": {},
   "outputs": [],
   "source": [
    "df_bid['Impressions']=df['Impressions']"
   ]
  },
  {
   "cell_type": "code",
   "execution_count": null,
   "metadata": {},
   "outputs": [],
   "source": [
    "df_bid.head(4)"
   ]
  },
  {
   "cell_type": "code",
   "execution_count": null,
   "metadata": {},
   "outputs": [],
   "source": [
    "#optimization trick\n",
    "# if spend is 0, our equation also become zero, meaning that there is no effect on the result.\n",
    "# but the machine compute the zero spend data, so it create more cpu load. \n",
    "# thus we removed zero spend data from dataset, compute the optimization task."
   ]
  },
  {
   "cell_type": "code",
   "execution_count": null,
   "metadata": {},
   "outputs": [],
   "source": [
    "df_bid=df_bid[df_bid['Spend']!=0]"
   ]
  },
  {
   "cell_type": "code",
   "execution_count": null,
   "metadata": {},
   "outputs": [],
   "source": [
    "df_bid=df_bid[df_bid['Impressions']!=0]"
   ]
  },
  {
   "cell_type": "code",
   "execution_count": null,
   "metadata": {},
   "outputs": [],
   "source": [
    "df_bid=df_bid.reset_index(drop=True)\n",
    "df_bid.shape"
   ]
  },
  {
   "cell_type": "markdown",
   "metadata": {},
   "source": [
    "# gurobi work starts from here"
   ]
  },
  {
   "cell_type": "code",
   "execution_count": null,
   "metadata": {},
   "outputs": [],
   "source": [
    "import gurobipy as gp\n",
    "from gurobipy import GRB"
   ]
  },
  {
   "cell_type": "code",
   "execution_count": null,
   "metadata": {},
   "outputs": [],
   "source": [
    "winning_li=[x if x ==0 else 1 for x in df_bid['Spend']]\n",
    "idx_winning={}\n",
    "for i in range(len(df_bid)):\n",
    "    idx_winning[(df_bid['AdDigitalChannel'][i],df_bid['AudienceType'][i],df_bid['Impressions'][i])]=winning_li[i]"
   ]
  },
  {
   "cell_type": "code",
   "execution_count": null,
   "metadata": {},
   "outputs": [],
   "source": [
    "idx_cost={}\n",
    "for i in range(len(df_bid)):\n",
    "    idx_cost[(df_bid['AdDigitalChannel'][i],df_bid['AudienceType'][i],df_bid['Impressions'][i])]=df_bid['Spend'][i]"
   ]
  },
  {
   "cell_type": "code",
   "execution_count": null,
   "metadata": {},
   "outputs": [],
   "source": [
    "idx_utility={}\n",
    "for i in range(len(df_bid)):\n",
    "    idx_utility[(df_bid['AdDigitalChannel'][i],df_bid['AudienceType'][i],df_bid['Impressions'][i])]=df_bid['utility'][i]"
   ]
  },
  {
   "cell_type": "code",
   "execution_count": null,
   "metadata": {},
   "outputs": [],
   "source": [
    "idx_ctr={}\n",
    "for i in range(len(df_bid)):\n",
    "    idx_ctr[(df_bid['AdDigitalChannel'][i],df_bid['AudienceType'][i],df_bid['Impressions'][i])]=df_bid['CTR'][i]"
   ]
  },
  {
   "cell_type": "code",
   "execution_count": null,
   "metadata": {},
   "outputs": [],
   "source": [
    "ca_min={}\n",
    "for i in range(len(df_bid)):\n",
    "    ca_min[(df_bid['AdDigitalChannel'][i],df_bid['AudienceType'][i])]=20"
   ]
  },
  {
   "cell_type": "code",
   "execution_count": null,
   "metadata": {},
   "outputs": [],
   "source": [
    "C_T_I,winning=gp.multidict(idx_winning)\n",
    "C_T_I,cost=gp.multidict(idx_cost)\n",
    "C_T_I,utility=gp.multidict(idx_utility)\n",
    "C_T_I,ctr=gp.multidict(idx_ctr)\n",
    "T_I,min_=gp.multidict(ca_min)\n",
    "mo = gp.Model('RTB')\n",
    "\n",
    "x=mo.addVars(C_T_I, vtype=GRB.BINARY,name='assign')\n",
    "\n",
    "#min const\n",
    "pub = {}\n",
    "for t,i in ca_min:\n",
    "    pub[t,i] = mo.addConstr(gp.quicksum(x[t,i,k] for tt,ii,k in C_T_I if (tt ==t and ii == i) ) >= 20, \n",
    "                                          name ='pub' + str(t) + ',' + str(i) )\n",
    "\n",
    "#max const    \n",
    "pub2 = {}\n",
    "for t,i in ca_min:\n",
    "    pub2[t,i] = mo.addConstr(gp.quicksum(x[t,i,k] for tt,ii,k in C_T_I if (tt ==t and ii == i) ) <= 500, \n",
    "                                          name ='pub142' + str(t) + ',' + str(i) )\n",
    "\n",
    "#total const\n",
    "max_bud = mo.addConstr(x.prod(cost) <= 1000, name='max_budget')\n",
    "\n",
    "#min_bud = mo.addConstrs((x[i]*cost[i] >=20 for i in C_T_I), name='min_budget')\n",
    "#min_bud = mo.addConstr(x.prod(cost) >= 20, name='min_budget')\n",
    "\n",
    "#objective\n",
    "obj= gp.quicksum(x[i]*utility[i]*winning[i]*ctr[i] for i in x)\n",
    "\n",
    "#optimize\n",
    "mo.setObjective(obj, GRB.MAXIMIZE)\n",
    "mo.optimize()"
   ]
  },
  {
   "cell_type": "code",
   "execution_count": null,
   "metadata": {},
   "outputs": [],
   "source": [
    "c_t_util={}\n",
    "c_t_cost={}\n",
    "\n",
    "for c,t,i in C_T_I:\n",
    "    if x[c,t,i].x > 0:\n",
    "        if c_t_util.get((c,t))==None:\n",
    "            c_t_util[(c,t)]=0\n",
    "        if c_t_cost.get((c,t))==None:\n",
    "            c_t_cost[(c,t)]=0\n",
    "        c_t_util[(c,t)]=c_t_util[(c,t)]+utility[c,t,i]*x[c,t,i].x\n",
    "        c_t_cost[(c,t)]=c_t_cost[(c,t)]+cost[c,t,i]*x[c,t,i].x\n",
    "        "
   ]
  },
  {
   "cell_type": "code",
   "execution_count": null,
   "metadata": {},
   "outputs": [],
   "source": [
    "result = pd.DataFrame(columns=[\"chtype\", \"audtype\", \"utility\",'cost'])\n",
    "for key in c_t_util.keys():\n",
    "    result=result.append({\"chtype\": key[0], \"audtype\": key[1], \"utility\": c_t_util[key],\"cost\":c_t_cost[key]}, ignore_index=True)  \n"
   ]
  },
  {
   "cell_type": "code",
   "execution_count": null,
   "metadata": {},
   "outputs": [],
   "source": [
    "def get_keys_from_value(d, val):\n",
    "    output=[k for k, v in d.items() if v == val][0]\n",
    "    return output"
   ]
  },
  {
   "cell_type": "code",
   "execution_count": null,
   "metadata": {},
   "outputs": [],
   "source": [
    "result['chtype']=result['chtype'].apply(lambda x : get_keys_from_value(ch_dict,x))\n",
    "result['audtype']=result['audtype'].apply(lambda x : get_keys_from_value(aud_dict,x))\n",
    "result"
   ]
  },
  {
   "cell_type": "code",
   "execution_count": null,
   "metadata": {},
   "outputs": [],
   "source": [
    "print('the entire cost is {}'.format(sum(result['cost'].tolist())))"
   ]
  }
 ],
 "metadata": {
  "kernelspec": {
   "display_name": "Python 3",
   "language": "python",
   "name": "python3"
  },
  "language_info": {
   "codemirror_mode": {
    "name": "ipython",
    "version": 3
   },
   "file_extension": ".py",
   "mimetype": "text/x-python",
   "name": "python",
   "nbconvert_exporter": "python",
   "pygments_lexer": "ipython3",
   "version": "3.6.12"
  }
 },
 "nbformat": 4,
 "nbformat_minor": 4
}
